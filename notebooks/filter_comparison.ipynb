{
 "cells": [
  {
   "cell_type": "markdown",
   "metadata": {},
   "source": [
    "# Filter Comparison\n",
    "\n",
    "This notebook compares median, Gaussian, Non-Local Means (NLM), and anisotropic diffusion filtering on a random subset of images from the metadata CSV."
   ]
  },
  {
   "cell_type": "markdown",
   "metadata": {},
   "source": [
    "## Setup\n",
    "Load dependencies and define the path to the metadata CSV."
   ]
  },
  {
   "cell_type": "code",
   "metadata": {},
   "source": [
    "import pandas as pd\n",
    "import numpy as np\n",
    "import matplotlib.pyplot as plt\n",
    "from skimage import io, restoration\n",
    "from scipy.ndimage import median_filter, gaussian_filter\n",
    "\n",
    "# Path to your metadata CSV (expects a `filepath` column)\n",
    "metadata_csv = 'data/metadata.csv'\n",
    "\n",
    "# Read dataframe\n",
    "df = pd.read_csv(metadata_csv)\n",
    "print(f'Loaded {len(df)} samples')"
   ]
  },
  {
   "cell_type": "markdown",
   "metadata": {},
   "source": [
    "## Select example images\n",
    "Randomly sample 10 images from the CSV for filtering."
   ]
  },
  {
   "cell_type": "code",
   "metadata": {},
   "source": [
    "sample_df = df.sample(n=10, random_state=42).reset_index(drop=True)\n",
    "image_paths = sample_df['filepath'].tolist()\n",
    "print('Selected images:')\n",
    "for p in image_paths:\n",
    "    print(p)"
   ]
  },
  {
   "cell_type": "markdown",
   "metadata": {},
   "source": [
    "## Apply filters\n",
    "For each image we apply median, Gaussian, NLM and anisotropic diffusion filtering and visualize the results."
   ]
  },
  {
   "cell_type": "code",
   "metadata": {},
   "source": [
    "results = []\n",
    "for path in image_paths:\n",
    "    img = io.imread(path)\n",
    "    if img.ndim > 2:\n",
    "        img = img[..., 0]\n",
    "    img = img.astype(float) / 255.0\n",
    "\n",
    "    median_img = median_filter(img, size=3)\n",
    "    gaussian_img = gaussian_filter(img, sigma=1)\n",
    "    nlm_img = restoration.denoise_nl_means(img, fast_mode=True, patch_size=5, patch_distance=3, h=0.1)\n",
    "    aniso_img = restoration.denoise_tv_chambolle(img, weight=0.1)\n",
    "\n",
    "    results.append((img, median_img, gaussian_img, nlm_img, aniso_img))"
   ]
  },
  {
   "cell_type": "code",
   "metadata": {},
   "source": [
    "for i, (orig, med, gauss, nlm, aniso) in enumerate(results):\n",
    "    fig, axes = plt.subplots(1, 5, figsize=(15, 3))\n",
    "    titles = ['Original', 'Median', 'Gaussian', 'NLM', 'Anisotropic']\n",
    "    for ax, im, t in zip(axes, [orig, med, gauss, nlm, aniso], titles):\n",
    "        ax.imshow(im, cmap='gray')\n",
    "        ax.set_title(t)\n",
    "        ax.axis('off')\n",
    "    plt.show()"
   ]
  }
 ],
 "metadata": {},
 "nbformat": 4,
 "nbformat_minor": 2
}
