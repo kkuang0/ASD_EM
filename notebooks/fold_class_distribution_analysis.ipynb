{
 "cells": [
  {
   "cell_type": "markdown",
   "metadata": {},
   "source": [
    "# Fold Class Distribution Analysis"
   ]
  },
  {
   "cell_type": "markdown",
   "metadata": {},
   "source": [
    "This notebook analyzes class distributions across cross-validation folds stored in a metadata CSV.\n",
    "The CSV should include a `fold` column and task labels such as `pathology`, `region`, and `depth`."
   ]
  },
  {
   "cell_type": "code",
   "execution_count": null,
   "metadata": {},
   "outputs": [],
   "source": [
    "import pandas as pd\n",
    "import seaborn as sns\n",
    "import matplotlib.pyplot as plt\n",
    "%matplotlib inline"
   ]
  },
  {
   "cell_type": "code",
   "execution_count": null,
   "metadata": {},
   "outputs": [],
   "source": [
    "# Path to the metadata CSV with a 'fold' column\n",
    "csv_path = 'path/to/metadata.csv'\n",
    "df = pd.read_csv(csv_path)\n",
    "df.head()"
   ]
  },
  {
   "cell_type": "code",
   "execution_count": null,
   "metadata": {},
   "outputs": [],
   "source": [
    "folds = sorted(df['fold'].unique())\n",
    "print(f'Found {len(folds)} folds: {folds}')"
   ]
  },
  {
   "cell_type": "code",
   "execution_count": null,
   "metadata": {},
   "outputs": [],
   "source": [
    "label_cols = ['pathology', 'region', 'depth']\n",
    "\n",
    "def plot_fold_distribution(df, label):\n",
    "    ctab = pd.crosstab(df['fold'], df[label])\n",
    "    display(ctab)\n",
    "    ctab.plot(kind='bar', stacked=True, figsize=(8,4))\n",
    "    plt.title(f'{label} distribution per fold')\n",
    "    plt.ylabel('Count')\n",
    "    plt.show()\n",
    "    \n",
    "    pct = ctab.div(ctab.sum(axis=1), axis=0) * 100\n",
    "    display(pct.round(2))\n",
    "\n",
    "for label in label_cols:\n",
    "    if label in df.columns:\n",
    "        plot_fold_distribution(df, label)\n",
    "    else:\n",
    "        print(f'Column {label} not found in CSV')"
   ]
  }
 ],
 "metadata": {
  "kernelspec": {
   "display_name": "Python 3",
   "language": "python",
   "name": "python3"
  },
  "language_info": {
   "name": "python",
   "version": "3.11"
  }
 },
 "nbformat": 4,
 "nbformat_minor": 5
}
