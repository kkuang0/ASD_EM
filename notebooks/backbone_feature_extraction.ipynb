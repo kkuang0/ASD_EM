{
 "cells": [
  {
   "cell_type": "markdown",
   "metadata": {},
   "source": [
    "# Backbone Feature Extraction Experiment\n",
    "\n",
    "This notebook evaluates different CNN and ViT backbones as feature extractors for the EM axon dataset."
   ]
  },
  {
   "cell_type": "markdown",
   "metadata": {},
   "source": [
    "## Setup\n",
    "Load dependencies and define paths."
   ]
  },
  {
   "cell_type": "code",
   "execution_count": null,
   "metadata": {},
   "outputs": [],
   "source": [
    "import pandas as pd\n",
    "import torch\n",
    "from torch.utils.data import DataLoader\n",
    "from sklearn.linear_model import LogisticRegression\n",
    "from sklearn.model_selection import train_test_split\n",
    "from sklearn.metrics import accuracy_score\n",
    "\n",
    "from src.data.datasets import EMAxonDataset\n",
    "from src.data.transforms import get_em_transforms, get_backbone_image_size\n",
    "\n",
    "# Path to your metadata CSV (expects columns: filepath, pathology, region, depth)\n",
    "metadata_csv = 'data/metadata.csv'\n",
    "\n",
    "# Load dataframe\n",
    "df = pd.read_csv(metadata_csv)\n",
    "print(f'Loaded {len(df)} samples')"
   ]
  },
  {
   "cell_type": "markdown",
   "metadata": {},
   "source": [
    "## Helper functions"
   ]
  },
  {
   "cell_type": "code",
   "execution_count": null,
   "metadata": {},
   "outputs": [],
   "source": [
    "import timm\n",
    "\n",
    "def extract_features(backbone_name, dataloader):\n",
    "    \"\"\"Return features tensor (N, F) and label vector for pathology task.\"\"\"\n",
    "    model = timm.create_model(backbone_name, pretrained=True, num_classes=0, global_pool='avg')\n",
    "    model.eval()\n",
    "    model.cuda()\n",
    "\n",
    "    feats = []\n",
    "    labels = []\n",
    "    with torch.no_grad():\n",
    "        for imgs, lbls in dataloader:\n",
    "            imgs = imgs.cuda()\n",
    "            out = model(imgs)\n",
    "            feats.append(out.cpu())\n",
    "            labels.append(lbls['pathology'])\n",
    "    feats = torch.cat(feats).numpy()\n",
    "    labels = torch.cat(labels).numpy()\n",
    "    return feats, labels"
   ]
  },
  {
   "cell_type": "markdown",
   "metadata": {},
   "source": [
    "## Feature extraction and evaluation"
   ]
  },
  {
   "cell_type": "code",
   "execution_count": null,
   "metadata": {},
   "outputs": [],
   "source": [
    "backbones = ['efficientnet_b4', 'resnet50', 'vit_base_patch16_224']\n",
    "results = {}\n",
    "\n",
    "for name in backbones:\n",
    "    print(f'\\nProcessing {name}')\n",
    "    size = get_backbone_image_size(name)\n",
    "    dataset = EMAxonDataset(df, transform=get_em_transforms(image_size=size, is_training=False))\n",
    "    loader = DataLoader(dataset, batch_size=32, shuffle=False, num_workers=4)\n",
    "    X, y = extract_features(name, loader)\n",
    "\n",
    "    X_train, X_test, y_train, y_test = train_test_split(X, y, test_size=0.2, random_state=42)\n",
    "    clf = LogisticRegression(max_iter=1000)\n",
    "    clf.fit(X_train, y_train)\n",
    "    preds = clf.predict(X_test)\n",
    "    acc = accuracy_score(y_test, preds)\n",
    "    results[name] = acc\n",
    "    print(f'Accuracy: {acc:.4f}')\n",
    "\n",
    "print('\\nSummary:')\n",
    "for k, v in results.items():\n",
    "    print(f'{k}: {v:.4f}')"
   ]
  }
 ],
 "metadata": {
  "kernelspec": {
   "display_name": "Python 3",
   "language": "python",
   "name": "python3"
  },
  "language_info": {
   "name": "python",
   "version": "3.11"
  }
 },
 "nbformat": 4,
 "nbformat_minor": 5
}
